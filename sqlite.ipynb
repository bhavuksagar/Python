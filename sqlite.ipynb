{
 "cells": [
  {
   "cell_type": "code",
   "execution_count": 1,
   "metadata": {},
   "outputs": [],
   "source": [
    "import sqlite3"
   ]
  },
  {
   "cell_type": "markdown",
   "metadata": {},
   "source": [
    "### Creating DB and Connection"
   ]
  },
  {
   "cell_type": "code",
   "execution_count": 16,
   "metadata": {},
   "outputs": [],
   "source": [
    "#creating db and cursor for executing the commands \n",
    "connection=sqlite3.connect(\"Newdb.db\")\n",
    "cursor=connection.cursor()"
   ]
  },
  {
   "cell_type": "markdown",
   "metadata": {},
   "source": [
    "#### Creating Table "
   ]
  },
  {
   "cell_type": "code",
   "execution_count": 4,
   "metadata": {},
   "outputs": [],
   "source": [
    "#created the table and commit it to the connection\n",
    "cursor.execute('''\n",
    "Create table if not exists employee(\n",
    "               id integer primary key,\n",
    "               name text not null,\n",
    "               age int,\n",
    "               department text\n",
    ") \n",
    "''')\n",
    "\n",
    "connection.commit()"
   ]
  },
  {
   "cell_type": "markdown",
   "metadata": {},
   "source": [
    "#### Inserting the value into the table "
   ]
  },
  {
   "cell_type": "code",
   "execution_count": 17,
   "metadata": {},
   "outputs": [],
   "source": [
    "cursor.execute('''\n",
    "Insert into employee(id,name,age,department)\n",
    "               values(01,'Bhavuk',25,'IT')\n",
    "\n",
    "''')\n",
    "\n",
    "cursor.execute('''\n",
    "Insert into employee(id,name,age,department)\n",
    "               values(02,'Sahil',22,'HR')\n",
    "\n",
    "''')\n",
    "\n",
    "cursor.execute('''\n",
    "Insert into employee(id,name,age,department)\n",
    "               values(03,'Rahul',25,'IT')\n",
    "\n",
    "''')\n",
    "\n",
    "cursor.execute('''\n",
    "Insert into employee(id,name,age,department)\n",
    "               values(04,'John',28,'Finance')\n",
    "\n",
    "''')\n",
    "\n",
    "\n",
    "\n",
    "connection.commit()"
   ]
  },
  {
   "cell_type": "markdown",
   "metadata": {},
   "source": [
    "#### Fetching data from DB"
   ]
  },
  {
   "cell_type": "code",
   "execution_count": 24,
   "metadata": {},
   "outputs": [
    {
     "name": "stdout",
     "output_type": "stream",
     "text": [
      "(1, 'Bhavuk', 25, 'IT')\n",
      "(2, 'Sahil', 22, 'HR')\n",
      "(4, 'John', 28, 'Finance')\n"
     ]
    }
   ],
   "source": [
    "cursor.execute(\"Select * from employee\")\n",
    "rows=cursor.fetchall()\n",
    "\n",
    "for row in rows:\n",
    "    print(row)"
   ]
  },
  {
   "cell_type": "markdown",
   "metadata": {},
   "source": [
    "#### Updating the data"
   ]
  },
  {
   "cell_type": "code",
   "execution_count": 19,
   "metadata": {},
   "outputs": [],
   "source": [
    "cursor.execute('''\n",
    "UPDATE employee\n",
    "Set Name=\"AK\"\n",
    "               where id=3\n",
    "\n",
    "''')\n",
    "\n",
    "connection.commit()"
   ]
  },
  {
   "cell_type": "code",
   "execution_count": 20,
   "metadata": {},
   "outputs": [
    {
     "name": "stdout",
     "output_type": "stream",
     "text": [
      "(1, 'Bhavuk', 25, 'IT')\n",
      "(2, 'Sahil', 22, 'HR')\n",
      "(3, 'AK', 25, 'IT')\n",
      "(4, 'John', 28, 'Finance')\n"
     ]
    }
   ],
   "source": [
    "cursor.execute(\"Select * from employee\")\n",
    "row=cursor.fetchall()\n",
    "\n",
    "for i in row:\n",
    "    print(i)"
   ]
  },
  {
   "cell_type": "markdown",
   "metadata": {},
   "source": [
    "#### Delete data "
   ]
  },
  {
   "cell_type": "code",
   "execution_count": 22,
   "metadata": {},
   "outputs": [],
   "source": [
    "cursor.execute('''\n",
    "Delete from employee\n",
    "               where id=3\n",
    "\n",
    "''')\n",
    "\n",
    "connection.commit()\n"
   ]
  },
  {
   "cell_type": "code",
   "execution_count": 47,
   "metadata": {},
   "outputs": [],
   "source": [
    "cursor.execute('''\n",
    "Delete from employee''')\n",
    "\n",
    "connection.commit()"
   ]
  },
  {
   "cell_type": "code",
   "execution_count": 48,
   "metadata": {},
   "outputs": [
    {
     "name": "stdout",
     "output_type": "stream",
     "text": [
      "[]\n"
     ]
    },
    {
     "data": {
      "text/plain": [
       "'\\nfor i in cursor.fetchall():\\n    print(i)\\n\\n    '"
      ]
     },
     "execution_count": 48,
     "metadata": {},
     "output_type": "execute_result"
    }
   ],
   "source": [
    "cursor.execute(\"Select * from employee\")\n",
    "print(cursor.fetchall())\n",
    "'''\n",
    "for i in cursor.fetchall():\n",
    "    print(i)\n",
    "\n",
    "    '''"
   ]
  },
  {
   "cell_type": "markdown",
   "metadata": {},
   "source": [
    "#### Multi inseration "
   ]
  },
  {
   "cell_type": "code",
   "execution_count": 49,
   "metadata": {},
   "outputs": [],
   "source": [
    "data=[(8, 'Sam', 20, 'IT'),(10, 'Park', 25, 'IT'),(9, 'Jack', 25, 'IT')]\n",
    "\n",
    "cursor.executemany('''Insert into employee(id,name,age,department)\n",
    "                   values(?,?,?,?)\n",
    "                   ''',data)\n",
    "\n",
    "connection.commit()"
   ]
  },
  {
   "cell_type": "code",
   "execution_count": 50,
   "metadata": {},
   "outputs": [
    {
     "name": "stdout",
     "output_type": "stream",
     "text": [
      "(8, 'Sam', 20, 'IT')\n",
      "(9, 'Jack', 25, 'IT')\n",
      "(10, 'Park', 25, 'IT')\n"
     ]
    }
   ],
   "source": [
    "cursor.execute(\"Select * from employee\")\n",
    "\n",
    "for i in cursor.fetchall():\n",
    "    print(i)\n",
    "\n"
   ]
  },
  {
   "cell_type": "markdown",
   "metadata": {},
   "source": [
    "#### OrderBy"
   ]
  },
  {
   "cell_type": "code",
   "execution_count": 52,
   "metadata": {},
   "outputs": [
    {
     "name": "stdout",
     "output_type": "stream",
     "text": [
      "(8, 'Sam', 20, 'IT')\n",
      "(10, 'Park', 25, 'IT')\n",
      "(9, 'Jack', 25, 'IT')\n"
     ]
    }
   ],
   "source": [
    "cursor.execute(\"Select * from employee Order by name DESC\")\n",
    "\n",
    "for i in cursor.fetchall():\n",
    "    print(i)"
   ]
  },
  {
   "cell_type": "code",
   "execution_count": 80,
   "metadata": {},
   "outputs": [],
   "source": [
    "cursor.execute('''\n",
    "drop table student''')\n",
    "\n",
    "connection.commit()"
   ]
  },
  {
   "cell_type": "markdown",
   "metadata": {},
   "source": [
    " ### Join\n",
    " A JOIN clause combines the records from two tables on the basis of common attributes. The different types of joins are as follows:<br>\n",
    "\n",
    "INNER JOIN (OR JOIN) – Gives the records that have common attributes in both tables. <br>\n",
    "LEFT JOIN – Gives all records from the left table and only the common records from the right table.<br>\n",
    "RIGHT JOIN – Gives all records from the right table and only the common records from the left table.<br>\n",
    "FULL OUTER JOIN – Gives all records when there is a common attribute in either the left or the right table.<br>\n",
    "CROSS JOIN – Gives records of one table with all other records of another table."
   ]
  },
  {
   "cell_type": "markdown",
   "metadata": {},
   "source": [
    "#### 1. Inner Join"
   ]
  },
  {
   "cell_type": "code",
   "execution_count": 81,
   "metadata": {},
   "outputs": [],
   "source": [
    "#creating new tables\n",
    "cursor.executescript('''\n",
    "\n",
    "Create table student(\n",
    "                     \n",
    "                     id integer primary key,\n",
    "                     name text not null,\n",
    "                     techerid integer \n",
    "                \n",
    ");\n",
    "Create table teacher(\n",
    "                    id integer primary key,\n",
    "                    name text not null\n",
    "                    \n",
    ");                    \n",
    "\n",
    "Insert into student(id,name,techerid) values          \n",
    "                   (1,'Bhavuk',2),\n",
    "                     (2,'sahil',1),\n",
    "                     (3,'Sumit',1),\n",
    "                     (4,'Jack',3),\n",
    "                     (5,'Karin',3),\n",
    "                     (6,'John',2);\n",
    "\n",
    "Insert into teacher(id,name) values\n",
    "                     (1,\"Teacher 1\"),\n",
    "                     (2,\"Teacher 2\"),\n",
    "                     (3,\"Teacher 3\");\n",
    "                     \n",
    "\n",
    "''')\n",
    "\n",
    "connection.commit()\n",
    "\n"
   ]
  },
  {
   "cell_type": "code",
   "execution_count": 82,
   "metadata": {},
   "outputs": [],
   "source": [
    "cursor.execute(\"Update student set techerid=null where id=5\")\n",
    "connection.commit()"
   ]
  },
  {
   "cell_type": "code",
   "execution_count": 83,
   "metadata": {},
   "outputs": [
    {
     "name": "stdout",
     "output_type": "stream",
     "text": [
      "(1, 'Bhavuk', 2)\n",
      "(2, 'sahil', 1)\n",
      "(3, 'Sumit', 1)\n",
      "(4, 'Jack', 3)\n",
      "(5, 'Karin', None)\n",
      "(6, 'John', 2)\n"
     ]
    }
   ],
   "source": [
    "cursor.execute(\"Select * from student\")\n",
    "\n",
    "for i in cursor.fetchall():\n",
    "    print(i)"
   ]
  },
  {
   "cell_type": "code",
   "execution_count": 84,
   "metadata": {},
   "outputs": [
    {
     "name": "stdout",
     "output_type": "stream",
     "text": [
      "(1, 'Teacher 1')\n",
      "(2, 'Teacher 2')\n",
      "(3, 'Teacher 3')\n"
     ]
    }
   ],
   "source": [
    "cursor.execute(\"Select * from teacher\")\n",
    "\n",
    "for i in cursor.fetchall():\n",
    "    print(i)"
   ]
  },
  {
   "cell_type": "code",
   "execution_count": 85,
   "metadata": {},
   "outputs": [
    {
     "name": "stdout",
     "output_type": "stream",
     "text": [
      "ID,\n",
      "('Bhavuk', 'Teacher 2', 1)\n",
      "('sahil', 'Teacher 1', 2)\n",
      "('Sumit', 'Teacher 1', 3)\n",
      "('Jack', 'Teacher 3', 4)\n",
      "('John', 'Teacher 2', 6)\n"
     ]
    }
   ],
   "source": [
    "cursor.execute('''\n",
    "\n",
    "select s.name,t.name,s.id from student as s inner join  teacher as t on\n",
    "               s.techerid=t.id\n",
    "\n",
    "\n",
    "''')\n",
    "print(\"ID,\")\n",
    "for i in cursor.fetchall():\n",
    "    print(i)"
   ]
  },
  {
   "cell_type": "markdown",
   "metadata": {},
   "source": [
    "#### 2. Left Join"
   ]
  },
  {
   "cell_type": "code",
   "execution_count": 86,
   "metadata": {},
   "outputs": [
    {
     "name": "stdout",
     "output_type": "stream",
     "text": [
      "ID,\n",
      "('Bhavuk', 'Teacher 2', 1)\n",
      "('sahil', 'Teacher 1', 2)\n",
      "('Sumit', 'Teacher 1', 3)\n",
      "('Jack', 'Teacher 3', 4)\n",
      "('Karin', None, 5)\n",
      "('John', 'Teacher 2', 6)\n"
     ]
    }
   ],
   "source": [
    "cursor.execute('''\n",
    "\n",
    "select s.name,t.name,s.id from student as s Left join  teacher as t on\n",
    "               s.techerid=t.id\n",
    "\n",
    "\n",
    "''')\n",
    "print(\"ID,\")\n",
    "for i in cursor.fetchall():\n",
    "    print(i)"
   ]
  },
  {
   "cell_type": "markdown",
   "metadata": {},
   "source": [
    "#### 3. Right Join"
   ]
  },
  {
   "cell_type": "code",
   "execution_count": 87,
   "metadata": {},
   "outputs": [
    {
     "name": "stdout",
     "output_type": "stream",
     "text": [
      "ID,\n",
      "('Bhavuk', 'Teacher 2', 1)\n",
      "('sahil', 'Teacher 1', 2)\n",
      "('Sumit', 'Teacher 1', 3)\n",
      "('Jack', 'Teacher 3', 4)\n",
      "('John', 'Teacher 2', 6)\n"
     ]
    }
   ],
   "source": [
    "cursor.execute('''\n",
    "\n",
    "select s.name,t.name,s.id from student as s right join  teacher as t on\n",
    "               s.techerid=t.id\n",
    "\n",
    "\n",
    "''')\n",
    "print(\"ID,\")\n",
    "for i in cursor.fetchall():\n",
    "    print(i)"
   ]
  },
  {
   "cell_type": "markdown",
   "metadata": {},
   "source": [
    "#### 4. Cross join"
   ]
  },
  {
   "cell_type": "code",
   "execution_count": 90,
   "metadata": {},
   "outputs": [
    {
     "name": "stdout",
     "output_type": "stream",
     "text": [
      "ID,\n",
      "('Bhavuk', 'Teacher 1', 1)\n",
      "('Bhavuk', 'Teacher 2', 1)\n",
      "('Bhavuk', 'Teacher 3', 1)\n",
      "('sahil', 'Teacher 1', 2)\n",
      "('sahil', 'Teacher 2', 2)\n",
      "('sahil', 'Teacher 3', 2)\n",
      "('Sumit', 'Teacher 1', 3)\n",
      "('Sumit', 'Teacher 2', 3)\n",
      "('Sumit', 'Teacher 3', 3)\n",
      "('Jack', 'Teacher 1', 4)\n",
      "('Jack', 'Teacher 2', 4)\n",
      "('Jack', 'Teacher 3', 4)\n",
      "('Karin', 'Teacher 1', 5)\n",
      "('Karin', 'Teacher 2', 5)\n",
      "('Karin', 'Teacher 3', 5)\n",
      "('John', 'Teacher 1', 6)\n",
      "('John', 'Teacher 2', 6)\n",
      "('John', 'Teacher 3', 6)\n"
     ]
    }
   ],
   "source": [
    "cursor.execute('''\n",
    "\n",
    "select s.name,t.name,s.id from student as s Cross join teacher as t\n",
    "\n",
    "\n",
    "''')\n",
    "print(\"ID,\")\n",
    "for i in cursor.fetchall():\n",
    "    print(i)"
   ]
  },
  {
   "cell_type": "code",
   "execution_count": null,
   "metadata": {},
   "outputs": [],
   "source": []
  }
 ],
 "metadata": {
  "kernelspec": {
   "display_name": "Python 3",
   "language": "python",
   "name": "python3"
  },
  "language_info": {
   "codemirror_mode": {
    "name": "ipython",
    "version": 3
   },
   "file_extension": ".py",
   "mimetype": "text/x-python",
   "name": "python",
   "nbconvert_exporter": "python",
   "pygments_lexer": "ipython3",
   "version": "3.10.0"
  }
 },
 "nbformat": 4,
 "nbformat_minor": 2
}
