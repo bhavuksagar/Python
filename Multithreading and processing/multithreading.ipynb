{
 "cells": [
  {
   "cell_type": "code",
   "execution_count": 2,
   "metadata": {},
   "outputs": [],
   "source": [
    "import threading\n",
    "import time"
   ]
  },
  {
   "cell_type": "markdown",
   "metadata": {},
   "source": [
    "### Without multithreading"
   ]
  },
  {
   "cell_type": "code",
   "execution_count": 7,
   "metadata": {},
   "outputs": [
    {
     "name": "stdout",
     "output_type": "stream",
     "text": [
      "Number: 0\n",
      "Number: 1\n",
      "Number: 2\n",
      "Number: 3\n",
      "Number: 4\n",
      "Letter: a\n",
      "Letter: b\n",
      "Letter: c\n",
      "Letter: e\n",
      "Letter: d\n",
      "20.024792194366455\n"
     ]
    }
   ],
   "source": [
    "def number():\n",
    "    for i in range(5):\n",
    "        time.sleep(2)\n",
    "        print(f\"Number: {i}\")\n",
    "\n",
    "\n",
    "def letter():\n",
    "    for i in \"abced\":\n",
    "        time.sleep(2)\n",
    "        print(f\"Letter: {i}\")\n",
    "\n",
    "start=time.time()\n",
    "number()\n",
    "letter()\n",
    "end=time.time()\n",
    "\n",
    "total_time_without=end-start\n",
    "\n",
    "print(total_time_without)\n",
    "              \n",
    "            \n",
    "              "
   ]
  },
  {
   "cell_type": "markdown",
   "metadata": {},
   "source": [
    "### With Multithreading"
   ]
  },
  {
   "cell_type": "code",
   "execution_count": 8,
   "metadata": {},
   "outputs": [
    {
     "name": "stdout",
     "output_type": "stream",
     "text": [
      "Number: 0Letter: a\n",
      "\n",
      "Letter: b\n",
      "Number: 1\n",
      "Letter: cNumber: 2\n",
      "\n",
      "Number: 3\n",
      "Letter: e\n",
      "Number: 4\n",
      "Letter: d\n",
      "10.029484033584595\n"
     ]
    }
   ],
   "source": [
    "#creating 2 thread for our 2 functions so they can process at the same time when one of the function is waiting for i/o operations\n",
    "t1=threading.Thread(target=number)   \n",
    "t2=threading.Thread(target=letter)\n",
    "start=time.time()\n",
    "t1.start()\n",
    "t2.start()\n",
    "\n",
    "#joining both the thread back to the main\n",
    "t1.join()\n",
    "t2.join()\n",
    "end=time.time()\n",
    "\n",
    "total_time_with=end-start\n",
    "\n",
    "print(total_time)\n"
   ]
  },
  {
   "cell_type": "markdown",
   "metadata": {},
   "source": [
    "##### With multithreading it took half of the time "
   ]
  },
  {
   "cell_type": "code",
   "execution_count": 11,
   "metadata": {},
   "outputs": [
    {
     "name": "stdout",
     "output_type": "stream",
     "text": [
      "Time taken by the functions without multithreading:20.024792194366455\n",
      "\n",
      "Time taken by the functions with multithreading:10.03945279121399\n"
     ]
    }
   ],
   "source": [
    "print(f\"Time taken by the functions without multithreading:{total_time_without}\",end='\\n\\n')\n",
    "print(f\"Time taken by the functions with multithreading:{total_time_with}\")"
   ]
  },
  {
   "cell_type": "markdown",
   "metadata": {},
   "source": [
    "### Multiprocessing\n",
    "It used for high computational tasks like mathematics, data processing etc"
   ]
  },
  {
   "cell_type": "code",
   "execution_count": 12,
   "metadata": {},
   "outputs": [],
   "source": [
    "import multiprocessing"
   ]
  },
  {
   "cell_type": "markdown",
   "metadata": {},
   "source": [
    "#### Without multiprocessing"
   ]
  },
  {
   "cell_type": "code",
   "execution_count": 14,
   "metadata": {},
   "outputs": [
    {
     "name": "stdout",
     "output_type": "stream",
     "text": [
      "Square of 0 is: 0\n",
      "Square of 1 is: 1\n",
      "Square of 2 is: 4\n",
      "Square of 3 is: 9\n",
      "Square of 4 is: 16\n",
      "Square of 5 is: 25\n",
      "Square of 6 is: 36\n",
      "Square of 7 is: 49\n",
      "Square of 8 is: 64\n",
      "Square of 9 is: 81\n",
      "Cube of 0 is: 0\n",
      "Cube of 1 is: 1\n",
      "Cube of 2 is: 8\n",
      "Cube of 3 is: 27\n",
      "Cube of 4 is: 64\n",
      "Cube of 5 is: 125\n",
      "Cube of 6 is: 216\n",
      "Cube of 7 is: 343\n",
      "Cube of 8 is: 512\n",
      "Cube of 9 is: 729\n",
      "25.089831113815308\n"
     ]
    }
   ],
   "source": [
    "def numbersqure():\n",
    "    for i in range(10):\n",
    "        time.sleep(1)\n",
    "        print(f\"Square of {i} is: {i*i}\")\n",
    "\n",
    "\n",
    "def cube():\n",
    "    for i in range(10):\n",
    "        time.sleep(1.5)\n",
    "        print(f\"Cube of {i} is: {i*i*i}\")\n",
    "\n",
    "start=time.time()\n",
    "numbersqure()\n",
    "cube()\n",
    "end=time.time()\n",
    "\n",
    "total_time_without=end-start\n",
    "\n",
    "print(total_time_without)"
   ]
  },
  {
   "cell_type": "code",
   "execution_count": null,
   "metadata": {},
   "outputs": [],
   "source": []
  }
 ],
 "metadata": {
  "kernelspec": {
   "display_name": "Python 3",
   "language": "python",
   "name": "python3"
  },
  "language_info": {
   "codemirror_mode": {
    "name": "ipython",
    "version": 3
   },
   "file_extension": ".py",
   "mimetype": "text/x-python",
   "name": "python",
   "nbconvert_exporter": "python",
   "pygments_lexer": "ipython3",
   "version": "3.10.0"
  }
 },
 "nbformat": 4,
 "nbformat_minor": 2
}
