{
 "cells": [
  {
   "cell_type": "code",
   "execution_count": 95,
   "metadata": {},
   "outputs": [],
   "source": [
    "import numpy as np"
   ]
  },
  {
   "cell_type": "markdown",
   "metadata": {},
   "source": [
    "### Data"
   ]
  },
  {
   "cell_type": "code",
   "execution_count": 85,
   "metadata": {},
   "outputs": [
    {
     "data": {
      "text/plain": [
       "16"
      ]
     },
     "execution_count": 85,
     "metadata": {},
     "output_type": "execute_result"
    }
   ],
   "source": [
    "x=[1,3,5,2,6,7,9,11,15,16,20,21,22,34,45,67]\n",
    "y=[2,6,10,4,12,14,18,22,30,32,40,42,44,68,90,134]\n",
    "\n",
    "len(y)"
   ]
  },
  {
   "cell_type": "markdown",
   "metadata": {},
   "source": [
    "### Prediction Function"
   ]
  },
  {
   "cell_type": "code",
   "execution_count": 86,
   "metadata": {},
   "outputs": [],
   "source": [
    "\n",
    "def pred(m,b,x,y):\n",
    "    y_pre=[]\n",
    "    for i in range(len(x)):\n",
    "        y_pre.append(m*x[i]+b)\n",
    "\n",
    "    return y_pre\n"
   ]
  },
  {
   "cell_type": "markdown",
   "metadata": {},
   "source": [
    "### Cost Function :  Mean Squared Error"
   ]
  },
  {
   "cell_type": "code",
   "execution_count": 87,
   "metadata": {},
   "outputs": [],
   "source": [
    "def cost(y_pre,y):\n",
    "    error=0\n",
    "    for i in range(len(y)):\n",
    "        error+=(y_pre[i]-y[i])**2\n",
    "    return error/float(len(y_pre))\n"
   ]
  },
  {
   "cell_type": "markdown",
   "metadata": {},
   "source": [
    "### Gradient Descent"
   ]
  },
  {
   "cell_type": "code",
   "execution_count": 88,
   "metadata": {},
   "outputs": [],
   "source": [
    "def gd(current_m,current_b,lr,x,y,y_pre):\n",
    "    new_m=0\n",
    "    new_b=0\n",
    "    deri_m=0\n",
    "    deri_b=0\n",
    "    n=float(len(y))\n",
    "\n",
    "    for i in range(len(y)):\n",
    "        deri_m+=(-2/n)*x[i]*(y[i]-y_pre[i])\n",
    "        deri_b+=(-2/n) * (y[i]-y_pre[i])\n",
    "    new_m= current_m - lr*(deri_m)\n",
    "    new_b=current_b - lr*(deri_b)\n",
    "\n",
    "    return new_m,new_b\n",
    "\n",
    "\n",
    "\n",
    "\n"
   ]
  },
  {
   "cell_type": "markdown",
   "metadata": {},
   "source": [
    "### Main Training Function"
   ]
  },
  {
   "cell_type": "code",
   "execution_count": 96,
   "metadata": {},
   "outputs": [],
   "source": [
    "iterations=100\n",
    "lr=0.0001\n",
    "\n",
    "def training(x,y,iterations):\n",
    "    start_m=0\n",
    "    start_b=0\n",
    "    for i in range(iterations+1):\n",
    "        y_pre=pred(start_m,start_b,x,y)\n",
    "        error=cost(y_pre,y)\n",
    "        start_m,start_b=gd(start_m,start_b,lr,x,y,y_pre)\n",
    "        print(f'iteration no.{i}: Error is {error} M:{start_m} and B:{start_b}')\n",
    "\n",
    "    return error,start_m,start_b,y_pre\n",
    "\n",
    "    "
   ]
  },
  {
   "cell_type": "code",
   "execution_count": 97,
   "metadata": {},
   "outputs": [
    {
     "name": "stdout",
     "output_type": "stream",
     "text": [
      "iteration no.0: Error is 2450.5 M:0.24505000000000002 and B:0.0071\n",
      "iteration no.1: Error is 1886.3505167315625 M:0.46005004375 and B:0.0133286525\n",
      "iteration no.2: Error is 1452.0785486328869 M:0.6486850954231562 and B:0.0187928091141875\n",
      "iteration no.3: Error is 1117.7839194982016 M:0.8141882396340786 and B:0.02358621846361246\n",
      "iteration no.4: Error is 860.4500198112278 M:0.9593960944973673 and B:0.027791132969218757\n",
      "iteration no.5: Error is 662.3590839648641 M:1.0867974294970366 and B:0.03147971860715926\n",
      "iteration no.6: Error is 509.87229960987514 M:1.1985758214468567 and B:0.034715291788723346\n",
      "iteration no.7: Error is 392.49075811282034 M:1.2966470796382306 and B:0.03755340456422926\n",
      "iteration no.8: Error is 302.1325913703156 M:1.3826920816193533 and B:0.0400427967506007\n",
      "iteration no.9: Error is 232.57652493175198 M:1.4581855823904775 and B:0.042226231301501875\n",
      "iteration no.10: Error is 179.0335353566715 M:1.5244214907869638 and B:0.04414122723775538\n",
      "iteration no.11: Error is 137.81711987215573 M:1.582535046271597 and B:0.045820702700014114\n",
      "iteration no.12: Error is 106.08947597761019 M:1.6335222762325845 and B:0.047293539145209944\n",
      "iteration no.13: Error is 81.6661151405597 M:1.6782570672732215 and B:0.04858507635675523\n",
      "iteration no.14: Error is 62.865457988402746 M:1.7175061430845036 and B:0.04971754675266394\n",
      "iteration no.15: Error is 48.39305543416964 M:1.7519422056121028 and B:0.05071045643536342\n",
      "iteration no.16: Error is 37.25246421383231 M:1.7821554647491344 and B:0.05158091951415338\n",
      "iteration no.17: Error is 28.67664050278522 M:1.8086637541664714 and B:0.052343951430391125\n",
      "iteration no.18: Error is 22.075127974907698 M:1.8319214066596465 and B:0.053012726312814076\n",
      "iteration no.19: Error is 16.99340413504085 M:1.8523270411302628 and B:0.05359880277390977\n",
      "iteration no.20: Error is 13.081585868267918 M:1.87023039466593 and B:0.054112322017342555\n",
      "iteration no.21: Error is 10.070339543343376 M:1.8859383168163253 and B:0.054562181651875034\n",
      "iteration no.22: Error is 7.752337050315182 M:1.899720028803541 and B:0.0549561881908467\n",
      "iteration no.23: Error is 5.9679809969914785 M:1.9118117378063095 and B:0.055301190850955965\n",
      "iteration no.24: Error is 4.594416225910514 M:1.9224206854040706 and B:0.05560319894357338\n",
      "iteration no.25: Error is 3.537071080808475 M:1.931728699568687 and B:0.05586748487060021\n",
      "iteration no.26: Error is 2.7231460280454636 M:1.939895311082743 and B:0.05609867449015725\n",
      "iteration no.27: Error is 2.096601316309426 M:1.9470604877978899 and B:0.05630082640091548\n",
      "iteration no.28: Error is 1.6142985686068032 M:1.9533470335967302 and B:0.05647750150395279\n",
      "iteration no.29: Error is 1.2430306502507196 M:1.9588626931749518 and B:0.056631824034383604\n",
      "iteration no.30: Error is 0.9572353154877402 M:1.9637019987183688 and B:0.05676653510880565\n",
      "iteration no.31: Error is 0.7372352144314517 M:1.9679478901257643 and B:0.05688403970633368\n",
      "iteration no.32: Error is 0.5678830825462555 M:1.9716731365471476 and B:0.05698644788844595\n",
      "iteration no.33: Error is 0.43751883225749455 M:1.9749415836017044 and B:0.05707561096412589\n",
      "iteration no.34: Error is 0.33716674112180267 M:1.9778092476519828 and B:0.05715315322014702\n",
      "iteration no.35: Error is 0.2599174619438952 M:1.980325275889492 and B:0.057220499760338446\n",
      "iteration no.36: Error is 0.20045230545211634 M:1.9825327886869828 and B:0.057278900930978684\n",
      "iteration no.37: Error is 0.1546770417910414 M:1.9844696186548052 and B:0.0573294537509537\n",
      "iteration no.38: Error is 0.11944000759909643 M:1.9861689590683094 and B:0.057373120713978945\n",
      "iteration no.39: Error is 0.09231510998568196 M:1.98765993277993 and B:0.05741074628514365\n",
      "iteration no.40: Error is 0.07143478695623307 M:1.988968091366757 and B:0.05744307137451787\n",
      "iteration no.41: Error is 0.055361423398351206 M:1.9901158530686656 and B:0.05747074603589098\n",
      "iteration no.42: Error is 0.04298836945655791 M:1.991122887023 and B:0.05749434060829004\n",
      "iteration no.43: Error is 0.033463746285081766 M:1.9920064503813475 and B:0.057514355491236735\n",
      "iteration no.44: Error is 0.0261317931080068 M:1.992781684086379 and B:0.0575312297212847\n",
      "iteration no.45: Error is 0.02048771725751182 M:1.993461872378185 and B:0.0575453484968338\n",
      "iteration no.46: Error is 0.016142938557944596 M:1.994058670477884 and B:0.057557049780191875\n",
      "iteration no.47: Error is 0.012798335087504411 M:1.9945823043508615 and B:0.05756663009003935\n",
      "iteration no.48: Error is 0.010223648254252666 M:1.9950417459734526 and B:0.05757434958357579\n",
      "iteration no.49: Error is 0.008241629199780552 M:1.9954448671070337 and B:0.05758043651545332\n",
      "iteration no.50: Error is 0.006715834990344076 M:1.9957985742151145 and B:0.057585091149920255\n",
      "iteration no.51: Error is 0.005541234347667437 M:1.9961089268358254 and B:0.057588489193226615\n",
      "iteration no.52: Error is 0.004636976112131007 M:1.99638124143863 and B:0.05759078480512079\n",
      "iteration no.53: Error is 0.003940822537803932 M:1.9966201825453036 and B:0.05759211324105263\n",
      "iteration no.54: Error is 0.0034048641446385386 M:1.9968298426769346 and B:0.05759259317036859\n",
      "iteration no.55: Error is 0.0029922210899578517 M:1.9970138124971883 and B:0.0575923287102314\n",
      "iteration no.56: Error is 0.0026745039444788137 M:1.997175242354049 and B:0.05759141121012434\n",
      "iteration no.57: Error is 0.002429859044067741 M:1.9973168962748231 and B:0.05758992081752544\n",
      "iteration no.58: Error is 0.002241463837230382 M:1.9974411993398482 and B:0.05758792785158631\n",
      "iteration no.59: Error is 0.0020963686310864326 M:1.9975502792468602 and B:0.057585494008359536\n",
      "iteration no.60: Error is 0.001984604988581803 M:1.997646002778409 and B:0.05758267341823151\n",
      "iteration no.61: Error is 0.0018984993889415412 M:1.9977300077973499 and B:0.057579513573684515\n",
      "iteration no.62: Error is 0.0018321448960288158 M:1.997803731318793 and B:0.057576056143289187\n",
      "iteration no.63: Error is 0.0017809944582913135 M:1.9978684341396493 and B:0.05757233768587881\n",
      "iteration no.64: Error is 0.001741547838495288 M:1.9979252224479038 and B:0.05756839027714588\n",
      "iteration no.65: Error is 0.0017111106179456999 M:1.9979750667819907 and B:0.05756424205940039\n",
      "iteration no.66: Error is 0.0016876086823422276 M:1.9980188186652164 and B:0.05755991772391244\n",
      "iteration no.67: Error is 0.001669445416378416 M:1.9980572252003408 and B:0.05755543893410614\n",
      "iteration no.68: Error is 0.001655391774749767 M:1.998090941874453 and B:0.057550824696858106\n",
      "iteration no.69: Error is 0.0016445016608274063 M:1.9981205437936118 and B:0.057546091688264425\n",
      "iteration no.70: Error is 0.0016360467867036653 M:1.9981465355398063 and B:0.05754125453945945\n",
      "iteration no.71: Error is 0.0016294665296469352 M:1.9981693598191763 and B:0.057536326087385244\n",
      "iteration no.72: Error is 0.0016243293325159138 M:1.9981894050497215 and B:0.05753131759480969\n",
      "iteration no.73: Error is 0.0016203029905019679 M:1.998207012018543 and B:0.05752623894336422\n",
      "iteration no.74: Error is 0.001617131778409399 M:1.998222479722722 and B:0.05752109880290972\n",
      "iteration no.75: Error is 0.0016146188436498275 M:1.998236070493945 and B:0.05751590478013347\n",
      "iteration no.76: Error is 0.0016126126526941275 M:1.998248014494705 and B:0.05751066354892394\n",
      "iteration no.77: Error is 0.0016109965577964433 M:1.9982585136631426 and B:0.05750538096475795\n",
      "iteration no.78: Error is 0.0016096807656498938 M:1.998267745174141 and B:0.057500062165060845\n",
      "iteration no.79: Error is 0.0016085961550042892 M:1.9982758644759935 and B:0.05749471165725963\n",
      "iteration no.80: Error is 0.0016076895175805774 M:1.9982830079546892 and B:0.05748933339603841\n",
      "iteration no.81: Error is 0.0016069198946151388 M:1.998289295271485 and B:0.05748393085112005\n",
      "iteration no.82: Error is 0.00160625575679742 M:1.998294831413825 and B:0.05747850706673606\n",
      "iteration no.83: Error is 0.0016056728334365744 M:1.9982997084947591 and B:0.05747306471380363\n",
      "iteration no.84: Error is 0.0016051524413960975 M:1.9983040073317049 and B:0.05746760613570447\n",
      "iteration no.85: Error is 0.0016046801987354363 M:1.998307798831606 and B:0.05746213338844978\n",
      "iteration no.86: Error is 0.0016042450344973436 M:1.9983111452062345 and B:0.05745664827591988\n",
      "iteration no.87: Error is 0.0016038384264579874 M:1.998314101038461 and B:0.057451152380782564\n",
      "iteration no.88: Error is 0.001603453814362447 M:1.9983167142177718 and B:0.05744564709161987\n",
      "iteration no.89: Error is 0.001603086148244267 M:1.998319026761064 and B:0.05744013362672845\n",
      "iteration no.90: Error is 0.0016027315407276476 M:1.9983210755327898 and B:0.057434613055001325\n",
      "iteration no.91: Error is 0.001602386999380284 M:1.9983228928767895 and B:0.05742908631424892\n",
      "iteration no.92: Error is 0.0016020502206784588 M:1.9983245071706452 and B:0.05742355422727347\n",
      "iteration no.93: Error is 0.001601719431409987 M:1.998325943312055 and B:0.057418017515972225\n",
      "iteration no.94: Error is 0.0016013932665853616 M:1.9983272231455638 and B:0.057412476813711234\n",
      "iteration no.95: Error is 0.0016010706754582447 M:1.9983283658369648 and B:0.05740693267618174\n",
      "iteration no.96: Error is 0.0016007508491799837 M:1.9983293882017903 and B:0.05740138559092528\n",
      "iteration no.97: Error is 0.0016004331651117518 M:1.9983303049935182 and B:0.05739583598569074\n",
      "iteration no.98: Error is 0.0016001171439541952 M:1.998331129156438 and B:0.05739028423576661\n",
      "iteration no.99: Error is 0.0015998024167489984 M:1.9983318720475085 and B:0.0573847306704141\n",
      "iteration no.100: Error is 0.001599488699476129 M:1.9983325436310075 and B:0.05737917557851136\n"
     ]
    },
    {
     "data": {
      "text/plain": [
       "(0.001599488699476129,\n",
       " 1.9983325436310075,\n",
       " 0.05737917557851136,\n",
       " [2.0557166027179226,\n",
       "  6.05238034681294,\n",
       "  10.049044090907957,\n",
       "  4.054048474765431,\n",
       "  12.047375962955465,\n",
       "  14.045707835002974,\n",
       "  18.042371579097992,\n",
       "  22.03903532319301,\n",
       "  30.03236281138304,\n",
       "  32.03069468343055,\n",
       "  40.02402217162059,\n",
       "  42.022354043668095,\n",
       "  44.0206859157156,\n",
       "  68.00066838028572,\n",
       "  89.9823189728083,\n",
       "  133.94562015785348])"
      ]
     },
     "execution_count": 97,
     "metadata": {},
     "output_type": "execute_result"
    }
   ],
   "source": [
    "training(x,y,iterations)"
   ]
  },
  {
   "cell_type": "code",
   "execution_count": null,
   "metadata": {},
   "outputs": [],
   "source": []
  }
 ],
 "metadata": {
  "kernelspec": {
   "display_name": "Python 3",
   "language": "python",
   "name": "python3"
  },
  "language_info": {
   "codemirror_mode": {
    "name": "ipython",
    "version": 3
   },
   "file_extension": ".py",
   "mimetype": "text/x-python",
   "name": "python",
   "nbconvert_exporter": "python",
   "pygments_lexer": "ipython3",
   "version": "3.10.0"
  }
 },
 "nbformat": 4,
 "nbformat_minor": 2
}
